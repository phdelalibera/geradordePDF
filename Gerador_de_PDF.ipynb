{
 "cells": [
  {
   "cell_type": "markdown",
   "id": "4ddc3bc8",
   "metadata": {},
   "source": [
    "# Meu primeiro projeto com Python"
   ]
  },
  {
   "cell_type": "markdown",
   "id": "a6c5af67",
   "metadata": {},
   "source": [
    "## Desenvolvendo as entradas dos dados\n",
    "\n",
    "&nbsp;&nbsp;&nbsp;&nbsp;&nbsp;<span style=\"font-size:2em; vertical-align: middle;\">&#8226;&nbsp;</span> Descrição do projeto<br>\n",
    "&nbsp;&nbsp;&nbsp;&nbsp;&nbsp;<span style=\"font-size:2em; vertical-align: middle;\">&#8226;&nbsp;</span> Total de horas estimadas<br>\n",
    "&nbsp;&nbsp;&nbsp;&nbsp;&nbsp;<span style=\"font-size:2em; vertical-align: middle;\">&#8226;&nbsp;</span> Valor da hora de trabalho<br>\n",
    "&nbsp;&nbsp;&nbsp;&nbsp;&nbsp;<span style=\"font-size:2em; vertical-align: middle;\">&#8226;&nbsp;</span> Prazo de entrega estimado"
   ]
  },
  {
   "cell_type": "code",
   "execution_count": null,
   "id": "ce89aa9c",
   "metadata": {},
   "outputs": [
    {
     "name": "stdout",
     "output_type": "stream",
     "text": [
      "Digite a descrição do projeto: \n"
     ]
    }
   ],
   "source": [
    "# declarando as variáveis e inserindo os dados do projeto\n",
    "projeto = input(\"Digite a descrição do projeto: \")\n",
    "horas_previstas = input(\"Digite a quantidade de horas previstas: \")\n",
    "valor_hora = input(\"Digite o valor da hora trabalhada: \")\n",
    "prazo = input(\"Digite o prazo do projeto: \")"
   ]
  },
  {
   "cell_type": "code",
   "execution_count": 5,
   "id": "4fc39218",
   "metadata": {},
   "outputs": [
    {
     "name": "stdout",
     "output_type": "stream",
     "text": [
      "Desenvolvimento de Sistema Python 200 200 3 meses\n"
     ]
    }
   ],
   "source": [
    "# imprimindo as informações do projeto\n",
    "print(projeto, horas_previstas, valor_hora, prazo)"
   ]
  },
  {
   "cell_type": "markdown",
   "id": "9dde6c48",
   "metadata": {},
   "source": [
    "## Criando o cálculo do valor total estimado\n",
    "\n",
    "&nbsp;&nbsp;&nbsp;&nbsp;<span style=\"font-size:2em; vertical-align: middle;\">&#8226;&nbsp;</span> **Cálculo:** total de horas estimadas * valor da hora de trabalho"
   ]
  },
  {
   "cell_type": "code",
   "execution_count": 6,
   "id": "c69c93e1",
   "metadata": {},
   "outputs": [],
   "source": [
    "valor_total = int(valor_hora) * int(horas_previstas)"
   ]
  },
  {
   "cell_type": "code",
   "execution_count": 7,
   "id": "549844e6",
   "metadata": {},
   "outputs": [
    {
     "data": {
      "text/plain": [
       "40000"
      ]
     },
     "execution_count": 7,
     "metadata": {},
     "output_type": "execute_result"
    }
   ],
   "source": [
    "valor_total"
   ]
  },
  {
   "cell_type": "markdown",
   "id": "d54a9506",
   "metadata": {},
   "source": [
    "# Gerando o PDF do Orçamento"
   ]
  },
  {
   "cell_type": "code",
   "execution_count": 37,
   "id": "20eef8c7",
   "metadata": {},
   "outputs": [
    {
     "name": "stdout",
     "output_type": "stream",
     "text": [
      "Collecting fpdf\n",
      "  Downloading fpdf-1.7.2.tar.gz (39 kB)\n",
      "  Preparing metadata (setup.py): started\n",
      "  Preparing metadata (setup.py): finished with status 'done'\n",
      "Building wheels for collected packages: fpdf\n",
      "  Building wheel for fpdf (setup.py): started\n",
      "  Building wheel for fpdf (setup.py): finished with status 'done'\n",
      "  Created wheel for fpdf: filename=fpdf-1.7.2-py2.py3-none-any.whl size=40705 sha256=124335f79391c396545dff58535d9b6e65d4c7fda3e2012b7ff31df7e3d618a8\n",
      "  Stored in directory: c:\\users\\55119\\appdata\\local\\pip\\cache\\wheels\\44\\35\\8b\\86ce00cec7e4d13c5f189680ae0fa82f919bedc066c2cddae9\n",
      "Successfully built fpdf\n",
      "Installing collected packages: fpdf\n",
      "Successfully installed fpdf-1.7.2\n"
     ]
    }
   ],
   "source": [
    "# instalando a biblioteca fpdf\n",
    "!pip install fpdf"
   ]
  },
  {
   "cell_type": "code",
   "execution_count": 2,
   "id": "0dbad4a9",
   "metadata": {},
   "outputs": [],
   "source": [
    "# importando a biblioteca\n",
    "from fpdf import FPDF"
   ]
  },
  {
   "cell_type": "code",
   "execution_count": 8,
   "id": "4859ae58",
   "metadata": {},
   "outputs": [
    {
     "name": "stdout",
     "output_type": "stream",
     "text": [
      "Orçamento gerado com sucesso!\n"
     ]
    }
   ],
   "source": [
    "# criando o arquivo pdf\n",
    "pdf = FPDF()\n",
    "\n",
    "# adicionando uma página ao pdf e alterando a fonte\n",
    "pdf.add_page()\n",
    "pdf.set_font(\"Arial\")\n",
    "\n",
    "# inserindo um template de imagem\n",
    "pdf.image(\"template.png\", x=0, y=0)\n",
    "\n",
    "# inserindo os dados do projeto\n",
    "pdf.text(115, 145, projeto)\n",
    "pdf.text(115, 160, horas_previstas)\n",
    "pdf.text(115, 175, valor_hora)\n",
    "pdf.text(115, 190, prazo)\n",
    "pdf.text(115, 205, str(valor_total))\n",
    "\n",
    "# salvando o arquivo pdf\n",
    "pdf.output(\"Orçamento.pdf\")\n",
    "\n",
    "# NNE\n",
    "print(\"Orçamento gerado com sucesso!\")"
   ]
  }
 ],
 "metadata": {
  "kernelspec": {
   "display_name": "Python 3 (ipykernel)",
   "language": "python",
   "name": "python3"
  },
  "language_info": {
   "codemirror_mode": {
    "name": "ipython",
    "version": 3
   },
   "file_extension": ".py",
   "mimetype": "text/x-python",
   "name": "python",
   "nbconvert_exporter": "python",
   "pygments_lexer": "ipython3",
   "version": "3.9.13"
  }
 },
 "nbformat": 4,
 "nbformat_minor": 5
}
